{
 "cells": [
  {
   "cell_type": "markdown",
   "metadata": {},
   "source": [
    "###  Test fast anneal feature of D-Wave for a problem instance"
   ]
  },
  {
   "cell_type": "code",
   "execution_count": 1,
   "metadata": {},
   "outputs": [],
   "source": [
    "import numpy as np\n",
    "import pickle"
   ]
  },
  {
   "cell_type": "code",
   "execution_count": 3,
   "metadata": {},
   "outputs": [],
   "source": [
    "# import problem file\n",
    "import pickle\n",
    "\n",
    "#To load from pickle file\n",
    "data = []\n",
    "with open(\"files/data_1.pkl\", 'rb') as fr:\n",
    "    try:\n",
    "        while True:\n",
    "            data.append(pickle.load(fr))\n",
    "    except EOFError:\n",
    "        pass"
   ]
  },
  {
   "cell_type": "code",
   "execution_count": null,
   "metadata": {},
   "outputs": [],
   "source": [
    "# import D-Wave stuffs\n",
    "from dwave.system import FixedEmbeddingComposite, DWaveSampler\n",
    "\n",
    "token = \"<insert_your_token_here>\"\n",
    "num_reads = 1000\n",
    "T = 0.005\n",
    "\n",
    "qpu = DWaveSampler(solver=data[0]['solver'], token=token)"
   ]
  },
  {
   "cell_type": "code",
   "execution_count": null,
   "metadata": {},
   "outputs": [],
   "source": [
    "# read problem data and run instances on D-Wave\n",
    "for instance in data:\n",
    "    sampler_fixed = FixedEmbeddingComposite(qpu, instance[\"embedding\"]) \n",
    "    sampleset = sampler_fixed.sample_ising(h={},\n",
    "                                           J=instance[\"J\"], \n",
    "                                           num_reads=num_reads, \n",
    "                                           annealing_time=T,\n",
    "                                           fast_anneal=True,\n",
    "                                           auto_scale=False, \n",
    "                                           answer_mode=\"raw\",\n",
    "                                           flux_biases=instance[\"h\"],\n",
    "                                           chain_strength=2 \n",
    "                                        )\n",
    "    sampleset_qa = sampleset.aggregate()\n",
    "    # # Save data to existing file\n",
    "    # result = {'sampleset': sampleset_qa}\n",
    "    # with open(\"results.pkl\", 'ab') as f:\n",
    "    #     pickle.dump(result, f)\n"
   ]
  }
 ],
 "metadata": {
  "kernelspec": {
   "display_name": "venv_aqcnn_test",
   "language": "python",
   "name": "python3"
  },
  "language_info": {
   "codemirror_mode": {
    "name": "ipython",
    "version": 3
   },
   "file_extension": ".py",
   "mimetype": "text/x-python",
   "name": "python",
   "nbconvert_exporter": "python",
   "pygments_lexer": "ipython3",
   "version": "3.9.6"
  }
 },
 "nbformat": 4,
 "nbformat_minor": 4
}
